{
  "cells": [
    {
      "cell_type": "code",
      "source": [
        "!pip install pygit2==1.12.2\n",
        "%cd / content\n",
        "!git clone https://github.com/1llyasviel/Fooocus.git\n",
        "%cd /content/Fooocus/models/upscale models/\n",
        "!wget -0 fooocus_upscaler_s409985e5.bin https://huggingface.co/l1lyasviel/misc/resolve/main/fooocus_upscaler_s409985e5.bin?download=true\n",
        "%cd / content/Fooocus\n",
        "!python entry_with_update-py -share"
      ],
      "metadata": {
        "id": "9sJ8EJjhkGN7"
      },
      "execution_count": null,
      "outputs": []
    }
  ],
  "metadata": {
    "accelerator": "GPU",
    "colab": {
      "gpuType": "T4",
      "provenance": []
    },
    "kernelspec": {
      "display_name": "Python 3",
      "name": "python3"
    },
    "language_info": {
      "name": "python"
    }
  },
  "nbformat": 4,
  "nbformat_minor": 0
}